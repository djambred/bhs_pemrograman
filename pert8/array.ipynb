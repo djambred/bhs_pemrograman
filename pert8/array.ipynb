{
 "cells": [
  {
   "cell_type": "markdown",
   "metadata": {},
   "source": [
    "ARRAY"
   ]
  },
  {
   "cell_type": "markdown",
   "metadata": {},
   "source": [
    "SET\n",
    "Merupakan tipe data kolektif yang di gunakan untuk menyimpan multiple values dalam single variabel dengan memenuhi kondisi:\n",
    " - store member values must unique not ducplicate\n",
    " - the value of the member that has been enetered cant be change anymore\n",
    " - set is unordered it's can't be access by index"
   ]
  },
  {
   "cell_type": "code",
   "execution_count": 5,
   "metadata": {},
   "outputs": [
    {
     "name": "stdout",
     "output_type": "stream",
     "text": [
      "{'Ayu', 'Lono', 'Siti', 'Joni'}\n",
      "{'mangga', 'apel'}\n",
      "{'animal', True, 5, 'man', ('A', 'B')}\n"
     ]
    }
   ],
   "source": [
    "# GENERAL SET\n",
    "\n",
    "# use curly braces\n",
    "student_set = {'Joni', 'Lono', 'Ayu', \"Siti\"}\n",
    "print(student_set)\n",
    "\n",
    "# convert list into set\n",
    "fruit_set = set(['mangga', 'apel'])\n",
    "print(fruit_set)\n",
    "\n",
    "# set with different data types\n",
    "set_mix={'man', 'animal', 5, True, ('A', 'B')}\n",
    "print(set_mix)"
   ]
  },
  {
   "cell_type": "code",
   "execution_count": null,
   "metadata": {},
   "outputs": [],
   "source": []
  }
 ],
 "metadata": {
  "kernelspec": {
   "display_name": "Python 3",
   "language": "python",
   "name": "python3"
  },
  "language_info": {
   "codemirror_mode": {
    "name": "ipython",
    "version": 3
   },
   "file_extension": ".py",
   "mimetype": "text/x-python",
   "name": "python",
   "nbconvert_exporter": "python",
   "pygments_lexer": "ipython3",
   "version": "3.8.10"
  }
 },
 "nbformat": 4,
 "nbformat_minor": 2
}
