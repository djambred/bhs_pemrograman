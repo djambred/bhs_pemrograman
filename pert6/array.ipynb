{
 "cells": [
  {
   "cell_type": "markdown",
   "metadata": {},
   "source": [
    "## Pertemuan 6\n",
    "## Array Basic"
   ]
  },
  {
   "cell_type": "markdown",
   "metadata": {},
   "source": [
    "### Apa itu Array ?\n",
    "### Array merupakan stuktur yang dapat menyimpan dan mengatur data. "
   ]
  },
  {
   "cell_type": "code",
   "execution_count": 6,
   "metadata": {},
   "outputs": [
    {
     "name": "stdout",
     "output_type": "stream",
     "text": [
      "[1, 2, 3]\n",
      "1\n",
      "2\n",
      "3\n"
     ]
    }
   ],
   "source": [
    "# list int\n",
    "my_list = [1,2,3]\n",
    "print(my_list)\n",
    "print(my_list[0])\n",
    "print(my_list[1])\n",
    "print(my_list[2])\n"
   ]
  },
  {
   "cell_type": "code",
   "execution_count": 3,
   "metadata": {},
   "outputs": [
    {
     "name": "stdout",
     "output_type": "stream",
     "text": [
      "[]\n"
     ]
    }
   ],
   "source": [
    "# empty list\n",
    "my_list = []\n",
    "print(my_list)"
   ]
  },
  {
   "cell_type": "code",
   "execution_count": 7,
   "metadata": {},
   "outputs": [
    {
     "name": "stdout",
     "output_type": "stream",
     "text": [
      "[1, 'hello', 3.4]\n",
      "1\n",
      "hello\n",
      "3.4\n"
     ]
    }
   ],
   "source": [
    "# list mixed type data\n",
    "my_list = [1, \"hello\", 3.4]\n",
    "print(my_list)\n",
    "print(my_list[0])\n",
    "print(my_list[1])\n",
    "print(my_list[2])"
   ]
  },
  {
   "cell_type": "code",
   "execution_count": 10,
   "metadata": {},
   "outputs": [
    {
     "name": "stdout",
     "output_type": "stream",
     "text": [
      "['mouse', [1, 2, 3], ['a']]\n",
      "mouse\n",
      "o\n",
      "a\n"
     ]
    }
   ],
   "source": [
    "# nested list\n",
    "my_list = [\"mouse\", [1,2,3],['a']]\n",
    "print(my_list)\n",
    "print(my_list[0])\n",
    "print(my_list[0][1][0])\n",
    "print(my_list[2][0])"
   ]
  },
  {
   "cell_type": "code",
   "execution_count": null,
   "metadata": {},
   "outputs": [],
   "source": [
    "HTTP/1.1 200 OK\n",
    "Content-Type: application/vnd.api+json\n",
    "\n",
    "{\n",
    "  \"data\": [{\n",
    "    \"type\": \"articles\",\n",
    "    \"id\": \"1\",\n",
    "    \"attributes\": {\n",
    "      \"title\": \"JSON:API paints my bikeshed!\",\n",
    "      \"body\": \"The shortest article. Ever.\",\n",
    "      \"created\": \"2015-05-22T14:56:29.000Z\",\n",
    "      \"updated\": \"2015-05-22T14:56:28.000Z\"\n",
    "    },\n",
    "    \"relationships\": {\n",
    "      \"author\": {\n",
    "        \"data\": {\"id\": \"42\", \"type\": \"people\"}\n",
    "      }\n",
    "    }\n",
    "  }],\n",
    "  \"included\": [\n",
    "    {\n",
    "      \"type\": \"people\",\n",
    "      \"id\": \"42\",\n",
    "      \"attributes\": {\n",
    "        \"name\": \"John\",\n",
    "        \"age\": 80,\n",
    "        \"gender\": \"male\"\n",
    "      }\n",
    "    }\n",
    "  ]\n",
    "}"
   ]
  },
  {
   "cell_type": "code",
   "execution_count": 13,
   "metadata": {},
   "outputs": [
    {
     "name": "stdout",
     "output_type": "stream",
     "text": [
      "{'data': [{'type': 'articles', 'id': '1', 'attributes': {'title': 'JSON:API paints my bikeshed!', 'body': 'The shortest article. Ever.', 'created': '2015-05-22T14:56:29.000Z', 'updated': '2015-05-22T14:56:28.000Z'}, 'relationships': {'author': {'data': {'id': '42', 'type': 'people'}}}}], 'included': [{'type': 'people', 'id': '42', 'attributes': {'name': 'John', 'age': 80, 'gender': 'male'}}]}\n"
     ]
    }
   ],
   "source": [
    "response = {\n",
    "  \"data\": [{\n",
    "    \"type\": \"articles\",\n",
    "    \"id\": \"1\",\n",
    "    \"attributes\": {\n",
    "      \"title\": \"JSON:API paints my bikeshed!\",\n",
    "      \"body\": \"The shortest article. Ever.\",\n",
    "      \"created\": \"2015-05-22T14:56:29.000Z\",\n",
    "      \"updated\": \"2015-05-22T14:56:28.000Z\"\n",
    "    },\n",
    "    \"relationships\": {\n",
    "      \"author\": {\n",
    "        \"data\": {\"id\": \"42\", \"type\": \"people\"}\n",
    "      }\n",
    "    }\n",
    "  }],\n",
    "  \"included\": [\n",
    "    {\n",
    "      \"type\": \"people\",\n",
    "      \"id\": \"42\",\n",
    "      \"attributes\": {\n",
    "        \"name\": \"John\",\n",
    "        \"age\": 80,\n",
    "        \"gender\": \"male\"\n",
    "      }\n",
    "    }\n",
    "  ]\n",
    "}\n",
    "\n",
    "data_array = []\n",
    "for article in response[\"data\"]:\n",
    "    data_array.append({\n",
    "        \"type\": article[\"type\"],\n",
    "        \"id\": article[\"id\"],\n",
    "        \"attributes\": {\n",
    "            \"title\": article[\"attributes\"][\"title\"],\n",
    "            \"body\": article[\"attributes\"][\"body\"],\n",
    "            \"created\": article[\"attributes\"][\"created\"],\n",
    "            \"updated\": article[\"attributes\"][\"updated\"]\n",
    "        },\n",
    "        \"relationships\": {\n",
    "            \"author\": {\n",
    "                \"data\": article[\"relationships\"][\"author\"][\"data\"]\n",
    "            }\n",
    "        }\n",
    "    })\n",
    "\n",
    "included_array = []\n",
    "for person in response[\"included\"]:\n",
    "    included_array.append({\n",
    "        \"type\": person[\"type\"],\n",
    "        \"id\": person[\"id\"],\n",
    "        \"attributes\": {\n",
    "            \"name\": person[\"attributes\"][\"name\"],\n",
    "            \"age\": person[\"attributes\"][\"age\"],\n",
    "            \"gender\": person[\"attributes\"][\"gender\"]\n",
    "        }\n",
    "    })\n",
    "\n",
    "converted = {\n",
    "    \"data\": data_array,\n",
    "    \"included\": included_array\n",
    "}\n",
    "\n",
    "print(converted)\n"
   ]
  }
 ],
 "metadata": {
  "kernelspec": {
   "display_name": "Python 3",
   "language": "python",
   "name": "python3"
  },
  "language_info": {
   "codemirror_mode": {
    "name": "ipython",
    "version": 3
   },
   "file_extension": ".py",
   "mimetype": "text/x-python",
   "name": "python",
   "nbconvert_exporter": "python",
   "pygments_lexer": "ipython3",
   "version": "3.8.10"
  }
 },
 "nbformat": 4,
 "nbformat_minor": 2
}
