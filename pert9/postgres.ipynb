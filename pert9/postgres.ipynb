{
 "cells": [
  {
   "cell_type": "markdown",
   "metadata": {},
   "source": [
    "# INSTALL LIBRARY\n",
    "- pip install psycopg2-binary\n",
    "- pip install ipython-sql"
   ]
  },
  {
   "cell_type": "code",
   "execution_count": 2,
   "metadata": {},
   "outputs": [
    {
     "name": "stdout",
     "output_type": "stream",
     "text": [
      "Collecting psycopg2-binary\n",
      "  Downloading psycopg2_binary-2.9.9-cp38-cp38-manylinux_2_17_x86_64.manylinux2014_x86_64.whl (3.0 MB)\n",
      "\u001b[K     |████████████████████████████████| 3.0 MB 110 kB/s eta 0:00:01\n",
      "\u001b[?25hInstalling collected packages: psycopg2-binary\n",
      "Successfully installed psycopg2-binary-2.9.9\n",
      "Note: you may need to restart the kernel to use updated packages.\n"
     ]
    }
   ],
   "source": [
    "pip install psycopg2-binary"
   ]
  },
  {
   "cell_type": "code",
   "execution_count": 1,
   "metadata": {},
   "outputs": [
    {
     "name": "stdout",
     "output_type": "stream",
     "text": [
      "Collecting ipython-sql\n",
      "  Downloading ipython_sql-0.5.0-py3-none-any.whl (20 kB)\n",
      "Collecting ipython-genutils\n",
      "  Downloading ipython_genutils-0.2.0-py2.py3-none-any.whl (26 kB)\n",
      "Collecting prettytable\n",
      "  Downloading prettytable-3.10.0-py3-none-any.whl (28 kB)\n",
      "Requirement already satisfied: six in /usr/lib/python3/dist-packages (from ipython-sql) (1.14.0)\n",
      "Collecting sqlalchemy>=2.0\n",
      "  Downloading SQLAlchemy-2.0.30-cp38-cp38-manylinux_2_17_x86_64.manylinux2014_x86_64.whl (3.1 MB)\n",
      "\u001b[K     |████████████████████████████████| 3.1 MB 327 kB/s eta 0:00:01\n",
      "\u001b[?25hCollecting sqlparse\n",
      "  Downloading sqlparse-0.5.0-py3-none-any.whl (43 kB)\n",
      "\u001b[K     |████████████████████████████████| 43 kB 611 kB/s eta 0:00:01\n",
      "\u001b[?25hRequirement already satisfied: ipython in /root/.local/lib/python3.8/site-packages (from ipython-sql) (8.12.3)\n",
      "Requirement already satisfied: wcwidth in /root/.local/lib/python3.8/site-packages (from prettytable->ipython-sql) (0.2.13)\n",
      "Requirement already satisfied: typing-extensions>=4.6.0 in /root/.local/lib/python3.8/site-packages (from sqlalchemy>=2.0->ipython-sql) (4.10.0)\n",
      "Collecting greenlet!=0.4.17; platform_machine == \"aarch64\" or (platform_machine == \"ppc64le\" or (platform_machine == \"x86_64\" or (platform_machine == \"amd64\" or (platform_machine == \"AMD64\" or (platform_machine == \"win32\" or platform_machine == \"WIN32\")))))\n",
      "  Downloading greenlet-3.0.3-cp38-cp38-manylinux_2_17_x86_64.manylinux2014_x86_64.whl (667 kB)\n",
      "\u001b[K     |████████████████████████████████| 667 kB 120 kB/s eta 0:00:01\n",
      "\u001b[?25hRequirement already satisfied: matplotlib-inline in /root/.local/lib/python3.8/site-packages (from ipython->ipython-sql) (0.1.6)\n",
      "Requirement already satisfied: traitlets>=5 in /root/.local/lib/python3.8/site-packages (from ipython->ipython-sql) (5.14.2)\n",
      "Requirement already satisfied: pygments>=2.4.0 in /root/.local/lib/python3.8/site-packages (from ipython->ipython-sql) (2.17.2)\n",
      "Requirement already satisfied: pickleshare in /root/.local/lib/python3.8/site-packages (from ipython->ipython-sql) (0.7.5)\n",
      "Requirement already satisfied: prompt-toolkit!=3.0.37,<3.1.0,>=3.0.30 in /root/.local/lib/python3.8/site-packages (from ipython->ipython-sql) (3.0.43)\n",
      "Requirement already satisfied: pexpect>4.3; sys_platform != \"win32\" in /usr/lib/python3/dist-packages (from ipython->ipython-sql) (4.6.0)\n",
      "Requirement already satisfied: backcall in /root/.local/lib/python3.8/site-packages (from ipython->ipython-sql) (0.2.0)\n",
      "Requirement already satisfied: stack-data in /root/.local/lib/python3.8/site-packages (from ipython->ipython-sql) (0.6.3)\n",
      "Requirement already satisfied: jedi>=0.16 in /root/.local/lib/python3.8/site-packages (from ipython->ipython-sql) (0.19.1)\n",
      "Requirement already satisfied: decorator in /root/.local/lib/python3.8/site-packages (from ipython->ipython-sql) (5.1.1)\n",
      "Requirement already satisfied: executing>=1.2.0 in /root/.local/lib/python3.8/site-packages (from stack-data->ipython->ipython-sql) (2.0.1)\n",
      "Requirement already satisfied: pure-eval in /root/.local/lib/python3.8/site-packages (from stack-data->ipython->ipython-sql) (0.2.2)\n",
      "Requirement already satisfied: asttokens>=2.1.0 in /root/.local/lib/python3.8/site-packages (from stack-data->ipython->ipython-sql) (2.4.1)\n",
      "Requirement already satisfied: parso<0.9.0,>=0.8.3 in /root/.local/lib/python3.8/site-packages (from jedi>=0.16->ipython->ipython-sql) (0.8.3)\n",
      "Installing collected packages: ipython-genutils, prettytable, greenlet, sqlalchemy, sqlparse, ipython-sql\n",
      "Successfully installed greenlet-3.0.3 ipython-genutils-0.2.0 ipython-sql-0.5.0 prettytable-3.10.0 sqlalchemy-2.0.30 sqlparse-0.5.0\n",
      "Note: you may need to restart the kernel to use updated packages.\n"
     ]
    }
   ],
   "source": [
    "pip install ipython-sql"
   ]
  },
  {
   "cell_type": "markdown",
   "metadata": {},
   "source": [
    "# IMPORT LIBRARY"
   ]
  },
  {
   "cell_type": "code",
   "execution_count": 3,
   "metadata": {},
   "outputs": [],
   "source": [
    "import psycopg2\n",
    "import pandas as pd\n"
   ]
  },
  {
   "cell_type": "markdown",
   "metadata": {},
   "source": [
    "# DEFINE CONNECTION PARAMETER"
   ]
  },
  {
   "cell_type": "code",
   "execution_count": 11,
   "metadata": {},
   "outputs": [],
   "source": [
    "db_params = {\n",
    "    'dbname': 'bhs_pemrograman',\n",
    "    'user': 'djambred',\n",
    "    'password': 'p455w0rd',\n",
    "    'host': '127.0.0.1',\n",
    "    'port': 5432\n",
    "}"
   ]
  },
  {
   "cell_type": "markdown",
   "metadata": {},
   "source": [
    "# CONNECTION TO DATABASE"
   ]
  },
  {
   "cell_type": "code",
   "execution_count": 12,
   "metadata": {},
   "outputs": [
    {
     "name": "stdout",
     "output_type": "stream",
     "text": [
      "Database connection successful\n"
     ]
    }
   ],
   "source": [
    "try:\n",
    "    # Connect to the PostgreSQL database\n",
    "    connection = psycopg2.connect(**db_params)\n",
    "    cursor = connection.cursor()\n",
    "    print(\"Database connection successful\")\n",
    "except Exception as error:\n",
    "    print(\"Error while connecting to PostgreSQL\", error)\n"
   ]
  },
  {
   "cell_type": "markdown",
   "metadata": {},
   "source": [
    "# CREATE TABLE"
   ]
  },
  {
   "cell_type": "code",
   "execution_count": 13,
   "metadata": {},
   "outputs": [
    {
     "name": "stdout",
     "output_type": "stream",
     "text": [
      "Table created successfully\n"
     ]
    }
   ],
   "source": [
    "create_table_query = '''\n",
    "CREATE TABLE IF NOT EXISTS testing (\n",
    "    id SERIAL PRIMARY KEY,\n",
    "    name VARCHAR(100),\n",
    "    age INTEGER\n",
    ")\n",
    "'''\n",
    "try:\n",
    "    cursor.execute(create_table_query)\n",
    "    connection.commit()\n",
    "    print(\"Table created successfully\")\n",
    "except Exception as error:\n",
    "    print(\"Error while creating table\", error)\n"
   ]
  },
  {
   "cell_type": "markdown",
   "metadata": {},
   "source": [
    "# INSERT DATA"
   ]
  },
  {
   "cell_type": "code",
   "execution_count": 14,
   "metadata": {},
   "outputs": [
    {
     "name": "stdout",
     "output_type": "stream",
     "text": [
      "Data inserted successfully\n"
     ]
    }
   ],
   "source": [
    "insert_query = '''\n",
    "INSERT INTO testing (name, age) VALUES (%s, %s)\n",
    "'''\n",
    "data_to_insert = [('Ani', 20), ('Budi', 21), ('Caca', 19)]\n",
    "try:\n",
    "    cursor.executemany(insert_query, data_to_insert)\n",
    "    connection.commit()\n",
    "    print(\"Data inserted successfully\")\n",
    "except Exception as error:\n",
    "    print(\"Error while inserting data\", error)\n"
   ]
  },
  {
   "cell_type": "markdown",
   "metadata": {},
   "source": [
    "# QUERY DATA"
   ]
  },
  {
   "cell_type": "code",
   "execution_count": 19,
   "metadata": {},
   "outputs": [
    {
     "name": "stdout",
     "output_type": "stream",
     "text": [
      "Error while retrieving data cursor already closed\n"
     ]
    }
   ],
   "source": [
    "select_query = '''\n",
    "SELECT * FROM testing\n",
    "'''\n",
    "try:\n",
    "    cursor.execute(select_query)\n",
    "    rows = cursor.fetchall()\n",
    "    df = pd.DataFrame(rows, columns=['id', 'name', 'age'])\n",
    "    print(\"Data retrieved successfully\")\n",
    "    display(df)\n",
    "except Exception as error:\n",
    "    print(\"Error while retrieving data\", error)\n"
   ]
  },
  {
   "cell_type": "markdown",
   "metadata": {},
   "source": [
    "# CLOSE CONNECTION"
   ]
  },
  {
   "cell_type": "code",
   "execution_count": 18,
   "metadata": {},
   "outputs": [
    {
     "name": "stdout",
     "output_type": "stream",
     "text": [
      "PostgreSQL connection is closed\n"
     ]
    }
   ],
   "source": [
    "if connection:\n",
    "    cursor.close()\n",
    "    connection.close()\n",
    "print(\"PostgreSQL connection is closed\")\n"
   ]
  }
 ],
 "metadata": {
  "kernelspec": {
   "display_name": "Python 3",
   "language": "python",
   "name": "python3"
  },
  "language_info": {
   "codemirror_mode": {
    "name": "ipython",
    "version": 3
   },
   "file_extension": ".py",
   "mimetype": "text/x-python",
   "name": "python",
   "nbconvert_exporter": "python",
   "pygments_lexer": "ipython3",
   "version": "3.8.10"
  }
 },
 "nbformat": 4,
 "nbformat_minor": 2
}
