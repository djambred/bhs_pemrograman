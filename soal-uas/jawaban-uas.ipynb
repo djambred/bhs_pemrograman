{
 "cells": [
  {
   "cell_type": "markdown",
   "metadata": {},
   "source": [
    "# JAWABAN ANALISA UAS\n",
    "# STUDI KASUS DENGAN TEMA DATA LOGISTIK"
   ]
  },
  {
   "cell_type": "markdown",
   "metadata": {},
   "source": [
    "NAMA : "
   ]
  },
  {
   "cell_type": "markdown",
   "metadata": {},
   "source": [
    "NIM"
   ]
  },
  {
   "cell_type": "markdown",
   "metadata": {},
   "source": [
    "LOGISTIK merupakan suatu rangkaian upaya yang mencakup efektivitas perencanaan, implementasi, sampai pengawasan atas suatu proses perpindahan produk barang atau jasa, energi, atau sumber daya lain, dari mulai titik awal hingga titik pengguna\n",
    "\n",
    "5w 1h\n"
   ]
  }
 ],
 "metadata": {
  "language_info": {
   "name": "python"
  }
 },
 "nbformat": 4,
 "nbformat_minor": 2
}
